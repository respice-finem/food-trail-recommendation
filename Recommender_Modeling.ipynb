{
 "cells": [
  {
   "cell_type": "code",
   "execution_count": 1,
   "id": "affe61cb",
   "metadata": {
    "id": "affe61cb"
   },
   "outputs": [],
   "source": [
    "import scipy\n",
    "import keras\n",
    "import tensorflow as tf\n",
    "from keras import backend as K\n",
    "from keras import initializers\n",
    "from keras.models import Sequential, Model, load_model, save_model\n",
    "from keras.layers.core import Dense, Lambda, Activation\n",
    "from keras.layers import Embedding, Input, Dense, Reshape, Concatenate, Flatten\n",
    "from keras.regularizers import l2\n",
    "from tensorflow.keras.optimizers import Adam, SGD\n",
    "import pandas as pd\n",
    "import numpy as np\n",
    "from sklearn.metrics import ndcg_score\n",
    "from sklearn.model_selection import train_test_split\n",
    "import matplotlib.pyplot as plt\n",
    "\n",
    "np.random.seed(903347941)"
   ]
  },
  {
   "cell_type": "code",
   "execution_count": 2,
   "id": "6f547dc4",
   "metadata": {
    "id": "6f547dc4"
   },
   "outputs": [],
   "source": [
    "# MAP@K\n",
    "# With reference to: https://github.com/benhamner/Metrics/pull/54/commits/0bfbf3f6b980ee28b33dd08d4d70114a3261c2ef?diff=split&w=0\n",
    "def ap_k(true, predicted, k):\n",
    "    if len(predicted) > k:\n",
    "        predicted = predicted[:k]\n",
    "\n",
    "    sum_precision = 0.0\n",
    "    num_hits = 0.0\n",
    "\n",
    "    for i, prediction in enumerate(predicted):\n",
    "        if prediction in true[:k] and prediction not in predicted[:i]:\n",
    "            num_hits += 1.0\n",
    "            precision_at_i = num_hits / (i + 1.0)\n",
    "            sum_precision += precision_at_i\n",
    "\n",
    "    if num_hits == 0.0:\n",
    "        return 0.0\n",
    "\n",
    "    return sum_precision / num_hits\n",
    "\n",
    "def map_k(true_pred, users, k):\n",
    "    ap_ks = []\n",
    "    for i in range(users):\n",
    "        user = true_pred[true_pred[:,0]==i]\n",
    "        true = user[user[:,-2]==1][:, 1] # Get the recommended\n",
    "        preds = user[user[:,-1].argsort()[::-1]][:,1] # Highest Scores first\n",
    "        ap_k_val = ap_k(true, preds, k)\n",
    "        ap_ks.append(ap_k_val)\n",
    "    return np.mean(ap_ks)\n",
    "\n",
    "# Hit Rate\n",
    "def hit_ratio_k(true_pred, users, k):\n",
    "    hits = 0\n",
    "    for i in range(users):\n",
    "        user = true_pred[true_pred[:,0]==i]\n",
    "        true = user[user[:,-2]==1][:, 1][:k] # Get the recommended\n",
    "        preds = user[user[:,-1].argsort()[::-1]][:,1][:k] # Highest Scores first\n",
    "        hits += len(set(preds).intersection(set(true))) > 0\n",
    "    return hits / users"
   ]
  },
  {
   "cell_type": "markdown",
   "id": "9d532c0e",
   "metadata": {
    "id": "9d532c0e"
   },
   "source": [
    "### References:\n",
    "Code references for benchmarks\n",
    "1. <b> NCF Code Base Reference </b><br>\n",
    "https://github.com/hexiangnan/neural_collaborative_filtering\n",
    "2. <b> Hit Rate @ K </b><br>\n",
    "https://towardsdatascience.com/ranking-evaluation-metrics-for-recommender-systems-263d0a66ef54#:~:text=In%20recommender%20settings%2C%20the%20hit,included%20in%20the%20recommendation%20list.\n"
   ]
  },
  {
   "cell_type": "markdown",
   "id": "8c5d8d8e",
   "metadata": {
    "id": "8c5d8d8e"
   },
   "source": [
    "### Metrics"
   ]
  },
  {
   "cell_type": "markdown",
   "id": "be9db6ee",
   "metadata": {
    "id": "be9db6ee"
   },
   "source": [
    "### Read in Data"
   ]
  },
  {
   "cell_type": "code",
   "execution_count": 3,
   "id": "14f47bf8",
   "metadata": {
    "id": "14f47bf8",
    "scrolled": true
   },
   "outputs": [],
   "source": [
    "# Data\n",
    "int_mat = scipy.sparse.load_npz('../data/sparse_interaction_matrix.npz')\n",
    "twsir_mat = scipy.sparse.load_npz('../data/sparse_twsir_matrix.npz')\n",
    "\n",
    "int_np = int_mat.toarray()\n",
    "twsir_np = twsir_mat.toarray()\n",
    "\n",
    "# TWSIR\n",
    "# int_index_grt_20 = np.where((np.count_nonzero(int_np[:, random_restaurants], axis=1) >= 20))[0]\n",
    "int_index_grt_20 = np.where((np.count_nonzero(int_np, axis=1) >= 20))[0]\n",
    "# int_np_grt_20 = int_np[:, random_restaurants][int_index_grt_20, :]\n",
    "int_np_grt_20 = int_np[int_index_grt_20, :]\n",
    "\n",
    "int_dataless_cols = np.where(np.sum(int_np_grt_20, axis=0)<2)[0]\n",
    "int_filtered_cols = [i for i in range(int_np_grt_20.shape[1]) if i not in int_dataless_cols]\n",
    "int_np_grt_20 = int_np_grt_20[:,int_filtered_cols]\n",
    "# int_random_restaurants_w_data = sorted(random_restaurants[[i for i in range(random_restaurants.shape[0]) if i not in int_dataless_cols]])"
   ]
  },
  {
   "cell_type": "code",
   "execution_count": 4,
   "id": "8a63b318",
   "metadata": {
    "scrolled": true
   },
   "outputs": [],
   "source": [
    "# TWSIR\n",
    "# twsir_index_grt_20 = np.where((np.count_nonzero(twsir_np[:, random_restaurants], axis=1) >= 20))[0]\n",
    "twsir_index_grt_20 = np.where((np.count_nonzero(twsir_np, axis=1) >= 20))[0]\n",
    "# twsir_np_grt_20 = twsir_np[:, random_restaurants][twsir_index_grt_20, :]\n",
    "twsir_np_grt_20 = twsir_np[twsir_index_grt_20, :]\n",
    "\n",
    "twsir_dataless_cols = np.where(np.sum(twsir_np_grt_20, axis=0)<2)[0]\n",
    "twsir_filtered_cols = [i for i in range(twsir_np_grt_20.shape[1]) if i not in twsir_dataless_cols]\n",
    "twsir_np_grt_20 = twsir_np_grt_20[:,twsir_filtered_cols]\n",
    "# twsir_random_restaurants_w_data = sorted(random_restaurants[[i for i in range(random_restaurants.shape[0]) if i not in twsir_dataless_cols]])"
   ]
  },
  {
   "cell_type": "code",
   "execution_count": 5,
   "id": "16d9e1f6",
   "metadata": {
    "id": "16d9e1f6"
   },
   "outputs": [],
   "source": [
    "# For BUI\n",
    "X_train_int, Y_train_int = np.array([]).reshape(0,2), np.array([])\n",
    "X_test_int, Y_test_int = np.array([]).reshape(0,2), np.array([])\n",
    "\n",
    "for i in range(int_np_grt_20.shape[0]):\n",
    "    xtrain, xtest, ytrain, ytest = train_test_split(np.arange(int_np_grt_20.shape[1]), int_np_grt_20[i], test_size=0.2, \n",
    "                                                  random_state=903347941, stratify=int_np_grt_20[i])\n",
    "\n",
    "    # For Test, we reduce the time needed to evaluate\n",
    "    # Positive Samples\n",
    "    pos = np.where(ytest==1)[0]\n",
    "\n",
    "    # Negative Samples\n",
    "    neg = np.random.choice(np.where(ytest==0)[0], 100, replace=True)\n",
    "\n",
    "    # Test Samples\n",
    "    test_idx = np.concatenate([pos, neg])\n",
    "\n",
    "    xtest = xtest[test_idx]\n",
    "    xtrain_np = np.array([*zip([i]*len(xtrain), xtrain)])\n",
    "    xtest_np = np.array([*zip([i]*len(xtest), xtest)])\n",
    "    X_train_int = np.vstack([X_train_int, xtrain_np])\n",
    "    X_test_int = np.vstack((X_test_int, xtest_np))\n",
    "\n",
    "    Y_train_int = np.append(Y_train_int, int_np_grt_20[i, xtrain])\n",
    "    Y_test_int = np.append(Y_test_int, int_np_grt_20[i, xtest])\n"
   ]
  },
  {
   "cell_type": "code",
   "execution_count": 6,
   "id": "49bc44fc",
   "metadata": {},
   "outputs": [],
   "source": [
    "# For TWSIR\n",
    "X_train_twsir, Y_train_twsir = np.array([]).reshape(0,2), np.array([])\n",
    "X_test_twsir, Y_test_twsir = np.array([]).reshape(0,2), np.array([])\n",
    "\n",
    "for i in range(twsir_np_grt_20.shape[0]):\n",
    "    xtrain, xtest, ytrain, ytest = train_test_split(np.arange(twsir_np_grt_20.shape[1]), twsir_np_grt_20[i], test_size=0.2, \n",
    "                                                  random_state=903347941, stratify=twsir_np_grt_20[i])\n",
    "\n",
    "    # For Test, we reduce the time needed to evaluate\n",
    "    # Positive Samples\n",
    "    pos = np.where(ytest==1)[0]\n",
    "\n",
    "    # Negative Samples\n",
    "    neg = np.random.choice(np.where(ytest==0)[0], 100, replace=True)\n",
    "\n",
    "    # Test Samples\n",
    "    test_idx = np.concatenate([pos, neg])\n",
    "\n",
    "    xtest = xtest[test_idx]\n",
    "    xtrain_np = np.array([*zip([i]*len(xtrain), xtrain)])\n",
    "    xtest_np = np.array([*zip([i]*len(xtest), xtest)])\n",
    "    X_train_twsir = np.vstack([X_train_twsir, xtrain_np])\n",
    "    X_test_twsir = np.vstack((X_test_twsir, xtest_np))\n",
    "\n",
    "    Y_train_twsir = np.append(Y_train_twsir, twsir_np_grt_20[i, xtrain])\n",
    "    Y_test_twsir = np.append(Y_test_twsir, twsir_np_grt_20[i, xtest])\n"
   ]
  },
  {
   "cell_type": "code",
   "execution_count": 7,
   "id": "U5x_B45eX0HP",
   "metadata": {
    "id": "U5x_B45eX0HP"
   },
   "outputs": [],
   "source": [
    "train_indices = np.arange(X_train_int.shape[0])\n",
    "np.random.shuffle(train_indices)\n",
    "X_train_int, Y_train_int = X_train_int[train_indices], Y_train_int[train_indices]\n",
    "\n",
    "test_indices = np.arange(X_test_int.shape[0])\n",
    "np.random.shuffle(test_indices)\n",
    "X_test, Y_test_int = X_test_int[test_indices], Y_test_int[test_indices]\n",
    "\n",
    "X_train_int, X_test_int = X_train_int.astype('int'), X_test_int.astype('int')"
   ]
  },
  {
   "cell_type": "code",
   "execution_count": 8,
   "id": "8e0e7d39",
   "metadata": {},
   "outputs": [],
   "source": [
    "train_indices = np.arange(X_train_twsir.shape[0])\n",
    "np.random.shuffle(train_indices)\n",
    "X_train_twsir, Y_train_twsir = X_train_twsir[train_indices], Y_train_twsir[train_indices]\n",
    "\n",
    "test_indices = np.arange(X_test_twsir.shape[0])\n",
    "np.random.shuffle(test_indices)\n",
    "X_test_twsir, Y_test_twsir = X_test_twsir[test_indices], Y_test_twsir[test_indices]\n",
    "\n",
    "X_train_twsir, X_test_twsir = X_train_twsir.astype('int'), X_test_twsir.astype('int')"
   ]
  },
  {
   "cell_type": "code",
   "execution_count": 9,
   "id": "e88212e5",
   "metadata": {
    "scrolled": true
   },
   "outputs": [],
   "source": [
    "attr = pd.read_csv('../data/attr_aspect.csv')\n",
    "# TWSIR\n",
    "train_attr_features_twsir = pd.DataFrame(X_train_twsir, columns=['account_id','restaurant_uuid']).merge(attr, how='left', on=['restaurant_uuid']).fillna(0)\n",
    "attr_twsir_train = train_attr_features_twsir.values[:, 2:].astype('int')\n",
    "test_attr_features_twsir = pd.DataFrame(X_test_twsir, columns=['account_id','restaurant_uuid']).merge(attr, how='left', on=['restaurant_uuid']).fillna(0)\n",
    "attr_twsir_test = test_attr_features_twsir.values[:, 2:].astype('int')\n",
    "\n",
    "# BUI\n",
    "train_attr_features_int = pd.DataFrame(X_train_int, columns=['account_id','restaurant_uuid']).merge(attr, how='left', on=['restaurant_uuid']).fillna(0)\n",
    "attr_int_train = train_attr_features_int.values[:, 2:].astype('int')\n",
    "test_attr_features_int = pd.DataFrame(X_test_int, columns=['account_id','restaurant_uuid']).merge(attr, how='left', on=['restaurant_uuid']).fillna(0)\n",
    "attr_int_test = test_attr_features_int.values[:, 2:].astype('int')"
   ]
  },
  {
   "cell_type": "code",
   "execution_count": 10,
   "id": "12f05fcd",
   "metadata": {},
   "outputs": [],
   "source": [
    "# Read in Word Embedding File\n",
    "word_embed = pd.read_csv('../data/word_embed.csv')"
   ]
  },
  {
   "cell_type": "code",
   "execution_count": 11,
   "id": "9ccffb26",
   "metadata": {
    "scrolled": true
   },
   "outputs": [],
   "source": [
    "# TWSIR\n",
    "train_text_features_twsir = pd.DataFrame(X_train_twsir, columns=['account_uuid', 'restaurant_uuid']).merge(word_embed, how='left', on=['account_uuid', 'restaurant_uuid']).fillna(0)\n",
    "text_twsir_train = train_text_features_twsir.values[:,2:]\n",
    "test_text_features_twsir = pd.DataFrame(X_test_twsir, columns=['account_uuid', 'restaurant_uuid']).merge(word_embed, how='left', on=['account_uuid', 'restaurant_uuid']).fillna(0)\n",
    "text_twsir_test = test_text_features_twsir.values[:,2:]\n",
    "\n",
    "# BUI\n",
    "train_text_features_int = pd.DataFrame(X_train_int, columns=['account_uuid', 'restaurant_uuid']).merge(word_embed, how='left', on=['account_uuid', 'restaurant_uuid']).fillna(0)\n",
    "text_int_train = train_text_features_int.values[:,2:]\n",
    "test_text_features_int = pd.DataFrame(X_test_int, columns=['account_uuid', 'restaurant_uuid']).merge(word_embed, how='left', on=['account_uuid', 'restaurant_uuid']).fillna(0)\n",
    "text_int_test = test_text_features_int.values[:,2:]"
   ]
  },
  {
   "cell_type": "code",
   "execution_count": 12,
   "id": "a6c4b5f1",
   "metadata": {},
   "outputs": [
    {
     "name": "stdout",
     "output_type": "stream",
     "text": [
      "Sparsity of TWSIR Matrix: 0.989915649302775\n",
      "Sparsity of BUI Matrix: 0.991225930169634\n",
      "TWSIR (Users, Restaurants) (1058, 8151)\n",
      "BUI (Users, Restaurants) (1783, 10474)\n",
      "TWSIR Interactions 86965\n",
      "BUI Interactions 163857\n"
     ]
    }
   ],
   "source": [
    "print(\"Sparsity of TWSIR Matrix:\", (twsir_np_grt_20==0).sum()/twsir_np_grt_20.size)\n",
    "print(\"Sparsity of BUI Matrix:\",(int_np_grt_20==0).sum()/int_np_grt_20.size)\n",
    "print(\"TWSIR (Users, Restaurants)\", twsir_np_grt_20.shape)\n",
    "print(\"BUI (Users, Restaurants)\", int_np_grt_20.shape)\n",
    "print(\"TWSIR Interactions\", (twsir_np_grt_20!=0).sum())\n",
    "print(\"BUI Interactions\", (int_np_grt_20!=0).sum())"
   ]
  },
  {
   "cell_type": "markdown",
   "id": "66545134",
   "metadata": {
    "id": "66545134"
   },
   "source": [
    "## Experiment 1"
   ]
  },
  {
   "cell_type": "markdown",
   "id": "ee4d4c7d",
   "metadata": {
    "id": "ee4d4c7d"
   },
   "source": [
    "### Neural Matrix Factorization or NeuMF (Benchmark Model)"
   ]
  },
  {
   "cell_type": "code",
   "execution_count": 13,
   "id": "0b234c1c",
   "metadata": {
    "id": "0b234c1c"
   },
   "outputs": [],
   "source": [
    "def neumf(users, restaurants, latent_dim, layers=[32,16], regs=[0,0]):\n",
    "    user_input = Input(shape=(1,), dtype='int32', name = 'user_input')\n",
    "    rest_input = Input(shape=(1,), dtype='int32', name = 'item_input')\n",
    "\n",
    "    # GMF\n",
    "    mf_user_embed = Embedding(input_dim = users, output_dim = latent_dim, name = 'mf_user_embed',\n",
    "                      embeddings_initializer = initializers.RandomNormal(mean=0.0, stddev=0.01), \n",
    "                      embeddings_regularizer = l2(regs[0]), input_length=1)\n",
    "    mf_rest_embed = Embedding(input_dim = restaurants, output_dim = latent_dim, name = 'mf_rest_embed',\n",
    "                      embeddings_initializer = initializers.RandomNormal(mean=0.0, stddev=0.01), \n",
    "                      embeddings_regularizer = l2(regs[0]), input_length=1)\n",
    "\n",
    "    mf_user_latent = Flatten()(mf_user_embed(user_input))\n",
    "    mf_rest_latent = Flatten()(mf_rest_embed(rest_input))\n",
    "\n",
    "    mf_predict_input = mf_user_latent * mf_rest_latent\n",
    "\n",
    "    # NCF\n",
    "    ncf_user_embed = Embedding(input_dim = users, output_dim = layers[0]//2, name = 'ncf_user_embed',\n",
    "                      embeddings_initializer = initializers.RandomNormal(mean=0.0, stddev=0.01), \n",
    "                      embeddings_regularizer = l2(regs[0]), input_length=1)\n",
    "    ncf_rest_embed = Embedding(input_dim = restaurants, output_dim = layers[0]//2, name = 'ncf_rest_embed',\n",
    "                      embeddings_initializer = initializers.RandomNormal(mean=0.0, stddev=0.01), \n",
    "                      embeddings_regularizer = l2(regs[0]), input_length=1)\n",
    "\n",
    "    ncf_user_latent = Flatten()(ncf_user_embed(user_input))\n",
    "    ncf_rest_latent = Flatten()(ncf_rest_embed(rest_input))\n",
    "\n",
    "    ncf_prediction_input = Concatenate()([ncf_user_latent, ncf_rest_latent])\n",
    "\n",
    "    for i in range(len(layers)):\n",
    "        ncf_dense = Dense(layers[i], kernel_regularizer=l2(regs[i]), activation='relu', name=f'layer{i}')\n",
    "        ncf_predict_input = ncf_dense(ncf_prediction_input)\n",
    "\n",
    "    neumf_predict_input = Concatenate()([mf_predict_input, ncf_predict_input])\n",
    "\n",
    "    neumf_predict_output = Dense(1, activation='sigmoid', name='output')(neumf_predict_input)\n",
    "\n",
    "    neumf_model = Model(inputs=[user_input, rest_input], outputs=neumf_predict_output)\n",
    "    return neumf_model"
   ]
  },
  {
   "cell_type": "markdown",
   "id": "ec82dc9b",
   "metadata": {
    "id": "ec82dc9b"
   },
   "source": [
    "### Benchmark with BUI"
   ]
  },
  {
   "cell_type": "code",
   "execution_count": 14,
   "id": "AR0d9wg3atPz",
   "metadata": {
    "colab": {
     "base_uri": "https://localhost:8080/",
     "height": 415
    },
    "id": "AR0d9wg3atPz",
    "outputId": "c19915dc-76aa-4e29-aa87-bba125176f5d",
    "scrolled": true
   },
   "outputs": [
    {
     "name": "stdout",
     "output_type": "stream",
     "text": [
      "Epoch 1/10\n",
      "14590/14590 [==============================] - 14s 826us/step - loss: 0.0459\n",
      "Epoch 2/10\n",
      "14590/14590 [==============================] - 12s 812us/step - loss: 0.0372\n",
      "Epoch 3/10\n",
      "14590/14590 [==============================] - 12s 827us/step - loss: 0.0362\n",
      "Epoch 4/10\n",
      "14590/14590 [==============================] - 13s 859us/step - loss: 0.0358\n",
      "Epoch 5/10\n",
      "14590/14590 [==============================] - 12s 828us/step - loss: 0.0356\n",
      "Epoch 6/10\n",
      "14590/14590 [==============================] - 12s 829us/step - loss: 0.0354\n",
      "Epoch 7/10\n",
      "14590/14590 [==============================] - 12s 841us/step - loss: 0.0351\n",
      "Epoch 8/10\n",
      "14590/14590 [==============================] - 12s 837us/step - loss: 0.0349\n",
      "Epoch 9/10\n",
      "14590/14590 [==============================] - 12s 842us/step - loss: 0.0346\n",
      "Epoch 10/10\n",
      "14590/14590 [==============================] - 12s 819us/step - loss: 0.0344\n",
      "0.2444490885405075 0.7195737521031969\n",
      "Epoch 1/10\n",
      "14590/14590 [==============================] - 16s 1ms/step - loss: 0.0437\n",
      "Epoch 2/10\n",
      "14590/14590 [==============================] - 15s 1ms/step - loss: 0.0371\n",
      "Epoch 3/10\n",
      "14590/14590 [==============================] - 15s 1ms/step - loss: 0.0357\n",
      "Epoch 4/10\n",
      "14590/14590 [==============================] - 15s 1ms/step - loss: 0.0352\n",
      "Epoch 5/10\n",
      "14590/14590 [==============================] - 15s 1ms/step - loss: 0.0349\n",
      "Epoch 6/10\n",
      "14590/14590 [==============================] - 15s 1ms/step - loss: 0.0346\n",
      "Epoch 7/10\n",
      "14590/14590 [==============================] - 15s 1ms/step - loss: 0.0344\n",
      "Epoch 8/10\n",
      "14590/14590 [==============================] - 15s 1ms/step - loss: 0.0342\n",
      "Epoch 9/10\n",
      "14590/14590 [==============================] - 15s 1ms/step - loss: 0.0339\n",
      "Epoch 10/10\n",
      "14590/14590 [==============================] - 15s 1ms/step - loss: 0.0336\n",
      "0.24642476935312044 0.7100392596747056\n",
      "Epoch 1/10\n",
      "14590/14590 [==============================] - 46s 3ms/step - loss: 0.0426\n",
      "Epoch 2/10\n",
      "14590/14590 [==============================] - 44s 3ms/step - loss: 0.0370\n",
      "Epoch 3/10\n",
      "14590/14590 [==============================] - 43s 3ms/step - loss: 0.0355\n",
      "Epoch 4/10\n",
      "14590/14590 [==============================] - 43s 3ms/step - loss: 0.0348\n",
      "Epoch 5/10\n",
      "14590/14590 [==============================] - 42s 3ms/step - loss: 0.0344\n",
      "Epoch 6/10\n",
      "14590/14590 [==============================] - 42s 3ms/step - loss: 0.0341\n",
      "Epoch 7/10\n",
      "14590/14590 [==============================] - 46s 3ms/step - loss: 0.0338\n",
      "Epoch 8/10\n",
      "14590/14590 [==============================] - 46s 3ms/step - loss: 0.0335\n",
      "Epoch 9/10\n",
      "14590/14590 [==============================] - 44s 3ms/step - loss: 0.0332\n",
      "Epoch 10/10\n",
      "14590/14590 [==============================] - 45s 3ms/step - loss: 0.0330\n",
      "0.24092177146299415 0.7145260796410544\n",
      "Epoch 1/10\n",
      "14590/14590 [==============================] - 88s 6ms/step - loss: 0.0419\n",
      "Epoch 2/10\n",
      "14590/14590 [==============================] - 87s 6ms/step - loss: 0.0369\n",
      "Epoch 3/10\n",
      "14590/14590 [==============================] - 86s 6ms/step - loss: 0.0354\n",
      "Epoch 4/10\n",
      "14590/14590 [==============================] - 86s 6ms/step - loss: 0.0346\n",
      "Epoch 5/10\n",
      "14590/14590 [==============================] - 86s 6ms/step - loss: 0.0341\n",
      "Epoch 6/10\n",
      "14590/14590 [==============================] - 86s 6ms/step - loss: 0.0337\n",
      "Epoch 7/10\n",
      "14590/14590 [==============================] - 87s 6ms/step - loss: 0.0333\n",
      "Epoch 8/10\n",
      "14590/14590 [==============================] - 83s 6ms/step - loss: 0.0329\n",
      "Epoch 9/10\n",
      "14590/14590 [==============================] - 82s 6ms/step - loss: 0.0324\n",
      "Epoch 10/10\n",
      "14590/14590 [==============================] - 82s 6ms/step - loss: 0.0320\n",
      "0.2395338247469487 0.7016264722378015\n"
     ]
    }
   ],
   "source": [
    "EPOCHS = 10\n",
    "PREDICTIVE_LAYERS = [4, 8, 16, 32]\n",
    "REGS = [0,0,0]\n",
    "LATENT_DIM = 8\n",
    "USER_NUM, REST_NUM = int_np_grt_20.shape\n",
    "LR = 1e-3\n",
    "BATCH_SIZE = 1024\n",
    "bm_bui_mapks = []\n",
    "bm_bui_hrs = []\n",
    "\n",
    "for layer in PREDICTIVE_LAYERS:\n",
    "    tf.random.set_seed(903347941)\n",
    "    MLP_DENSE = [layer*4,layer*2,layer]\n",
    "    nmf = neumf(USER_NUM, REST_NUM, LATENT_DIM, layers=MLP_DENSE, regs=REGS)\n",
    "    nmf.compile(optimizer=Adam(learning_rate=LR), loss='binary_crossentropy')\n",
    "\n",
    "    nmf.fit([X_train_int[:, :1], X_train_int[:, 1:]], Y_train_int, batch_size=BATCH_SIZE, epochs=EPOCHS)\n",
    "    predictions = nmf.predict([X_test_int[:, :1], X_test_int[:, 1:]])\n",
    "    true_pred = np.hstack((X_test_int, Y_test_int.reshape(-1,1), predictions))\n",
    "    mapk = map_k(true_pred, USER_NUM, 10)\n",
    "    hr = hit_ratio_k(true_pred, USER_NUM, 10)\n",
    "    print(mapk, hr)\n",
    "    bm_bui_mapks.append(mapk)\n",
    "    bm_bui_hrs.append(hr)"
   ]
  },
  {
   "cell_type": "code",
   "execution_count": 15,
   "id": "uLbB_9Xa35Or",
   "metadata": {
    "colab": {
     "base_uri": "https://localhost:8080/"
    },
    "id": "uLbB_9Xa35Or",
    "outputId": "2f4b6b83-c99b-47ce-a788-4aa16658c71a"
   },
   "outputs": [
    {
     "name": "stdout",
     "output_type": "stream",
     "text": [
      "[0.2444490885405075, 0.24642476935312044, 0.24092177146299415, 0.2395338247469487]\n",
      "[0.7195737521031969, 0.7100392596747056, 0.7145260796410544, 0.7016264722378015]\n"
     ]
    }
   ],
   "source": [
    "print(bm_bui_mapks)\n",
    "print(bm_bui_hrs)"
   ]
  },
  {
   "cell_type": "markdown",
   "id": "f3b1b906",
   "metadata": {
    "id": "f3b1b906"
   },
   "source": [
    "### Benchmark With TWSIR"
   ]
  },
  {
   "cell_type": "code",
   "execution_count": 16,
   "id": "133bdca9",
   "metadata": {
    "colab": {
     "base_uri": "https://localhost:8080/",
     "height": 600
    },
    "id": "133bdca9",
    "outputId": "fe73d14a-9dbc-4ad7-afff-0936b66551e3",
    "scrolled": true
   },
   "outputs": [
    {
     "name": "stdout",
     "output_type": "stream",
     "text": [
      "Epoch 1/10\n",
      "6737/6737 [==============================] - 6s 790us/step - loss: 0.0594\n",
      "Epoch 2/10\n",
      "6737/6737 [==============================] - 5s 789us/step - loss: 0.0444\n",
      "Epoch 3/10\n",
      "6737/6737 [==============================] - 5s 790us/step - loss: 0.0424\n",
      "Epoch 4/10\n",
      "6737/6737 [==============================] - 5s 814us/step - loss: 0.0414\n",
      "Epoch 5/10\n",
      "6737/6737 [==============================] - 5s 793us/step - loss: 0.0409\n",
      "Epoch 6/10\n",
      "6737/6737 [==============================] - 5s 791us/step - loss: 0.0405\n",
      "Epoch 7/10\n",
      "6737/6737 [==============================] - 5s 795us/step - loss: 0.0402\n",
      "Epoch 8/10\n",
      "6737/6737 [==============================] - 5s 791us/step - loss: 0.0399\n",
      "Epoch 9/10\n",
      "6737/6737 [==============================] - 5s 791us/step - loss: 0.0397\n",
      "Epoch 10/10\n",
      "6737/6737 [==============================] - 5s 792us/step - loss: 0.0395\n",
      "0.4841454595123073 0.9489603024574669\n",
      "Epoch 1/10\n",
      "6737/6737 [==============================] - 7s 923us/step - loss: 0.0547\n",
      "Epoch 2/10\n",
      "6737/6737 [==============================] - 6s 916us/step - loss: 0.0445\n",
      "Epoch 3/10\n",
      "6737/6737 [==============================] - 6s 919us/step - loss: 0.0423\n",
      "Epoch 4/10\n",
      "6737/6737 [==============================] - 6s 928us/step - loss: 0.0410\n",
      "Epoch 5/10\n",
      "6737/6737 [==============================] - 6s 927us/step - loss: 0.0404\n",
      "Epoch 6/10\n",
      "6737/6737 [==============================] - 6s 932us/step - loss: 0.0400\n",
      "Epoch 7/10\n",
      "6737/6737 [==============================] - 6s 927us/step - loss: 0.0396\n",
      "Epoch 8/10\n",
      "6737/6737 [==============================] - 6s 922us/step - loss: 0.0394\n",
      "Epoch 9/10\n",
      "6737/6737 [==============================] - 6s 925us/step - loss: 0.0391\n",
      "Epoch 10/10\n",
      "6737/6737 [==============================] - 6s 919us/step - loss: 0.0389\n",
      "0.4868981441295275 0.9499054820415879\n",
      "Epoch 1/10\n",
      "6737/6737 [==============================] - 9s 1ms/step - loss: 0.0526\n",
      "Epoch 2/10\n",
      "6737/6737 [==============================] - 8s 1ms/step - loss: 0.0445\n",
      "Epoch 3/10\n",
      "6737/6737 [==============================] - 9s 1ms/step - loss: 0.0421\n",
      "Epoch 4/10\n",
      "6737/6737 [==============================] - 9s 1ms/step - loss: 0.0407\n",
      "Epoch 5/10\n",
      "6737/6737 [==============================] - 11s 2ms/step - loss: 0.0398\n",
      "Epoch 6/10\n",
      "6737/6737 [==============================] - 10s 1ms/step - loss: 0.0392\n",
      "Epoch 7/10\n",
      "6737/6737 [==============================] - 10s 1ms/step - loss: 0.0388\n",
      "Epoch 8/10\n",
      "6737/6737 [==============================] - 9s 1ms/step - loss: 0.0384\n",
      "Epoch 9/10\n",
      "6737/6737 [==============================] - 9s 1ms/step - loss: 0.0381\n",
      "Epoch 10/10\n",
      "6737/6737 [==============================] - 10s 1ms/step - loss: 0.0378\n",
      "0.4687763576865318 0.9224952741020794\n",
      "Epoch 1/10\n",
      "6737/6737 [==============================] - 32s 5ms/step - loss: 0.0513\n",
      "Epoch 2/10\n",
      "6737/6737 [==============================] - 31s 5ms/step - loss: 0.0446\n",
      "Epoch 3/10\n",
      "6737/6737 [==============================] - 31s 5ms/step - loss: 0.0421\n",
      "Epoch 4/10\n",
      "6737/6737 [==============================] - 31s 5ms/step - loss: 0.0405\n",
      "Epoch 5/10\n",
      "6737/6737 [==============================] - 31s 5ms/step - loss: 0.0395\n",
      "Epoch 6/10\n",
      "6737/6737 [==============================] - 31s 5ms/step - loss: 0.0387\n",
      "Epoch 7/10\n",
      "6737/6737 [==============================] - 31s 5ms/step - loss: 0.0381\n",
      "Epoch 8/10\n",
      "6737/6737 [==============================] - 31s 5ms/step - loss: 0.0375\n",
      "Epoch 9/10\n",
      "6737/6737 [==============================] - 31s 5ms/step - loss: 0.0369\n",
      "Epoch 10/10\n",
      "6737/6737 [==============================] - 31s 5ms/step - loss: 0.0363\n",
      "0.453401160059697 0.9149338374291115\n"
     ]
    }
   ],
   "source": [
    "EPOCHS = 10\n",
    "PREDICTIVE_LAYERS = [4, 8, 16, 32]\n",
    "REGS = [0,0,0]\n",
    "LATENT_DIM = 8\n",
    "USER_NUM, REST_NUM = twsir_np_grt_20.shape\n",
    "LR = 1e-3\n",
    "BATCH_SIZE = 1024\n",
    "bm_twsir_mapks = []\n",
    "bm_twsir_hrs = []\n",
    "\n",
    "for layer in PREDICTIVE_LAYERS:\n",
    "    tf.random.set_seed(903347941)\n",
    "    MLP_DENSE = [layer*4,layer*2,layer]\n",
    "    nmf = neumf(USER_NUM, REST_NUM, LATENT_DIM, layers=MLP_DENSE, regs=REGS)\n",
    "    nmf.compile(optimizer=Adam(learning_rate=LR), loss='binary_crossentropy')\n",
    "    nmf.fit([X_train_twsir[:, :1], X_train_twsir[:, 1:]], Y_train_twsir, batch_size=BATCH_SIZE, epochs=EPOCHS)\n",
    "    predictions = nmf.predict([X_test_twsir[:, :1], X_test_twsir[:, 1:]])\n",
    "    true_pred = np.hstack((X_test_twsir, Y_test_twsir.reshape(-1,1), predictions))\n",
    "    mapk = map_k(true_pred, USER_NUM, 10)\n",
    "    hr = hit_ratio_k(true_pred, USER_NUM, 10)\n",
    "    print(mapk, hr)\n",
    "    bm_twsir_mapks.append(mapk)\n",
    "    bm_twsir_hrs.append(hr)"
   ]
  },
  {
   "cell_type": "code",
   "execution_count": 17,
   "id": "8GGTq1WyF7S-",
   "metadata": {
    "colab": {
     "base_uri": "https://localhost:8080/"
    },
    "id": "8GGTq1WyF7S-",
    "outputId": "f344752e-f22b-4372-f4a9-9c44773ee100"
   },
   "outputs": [
    {
     "name": "stdout",
     "output_type": "stream",
     "text": [
      "[0.4841454595123073, 0.4868981441295275, 0.4687763576865318, 0.453401160059697]\n",
      "[0.9489603024574669, 0.9499054820415879, 0.9224952741020794, 0.9149338374291115]\n"
     ]
    }
   ],
   "source": [
    "print(bm_twsir_mapks)\n",
    "print(bm_twsir_hrs)"
   ]
  },
  {
   "cell_type": "markdown",
   "id": "fbb2e4b6",
   "metadata": {
    "id": "fbb2e4b6"
   },
   "source": [
    "## Experiment 2"
   ]
  },
  {
   "cell_type": "code",
   "execution_count": 18,
   "id": "0d42e67a",
   "metadata": {},
   "outputs": [],
   "source": [
    "def augmented_neumf(users, restaurants, latent_dim, layers=[32,16], attr_layers=[], text_layers=[], regs=[0,0]):\n",
    "    user_input = Input(shape=(1,), dtype='int32', name = 'user_input')\n",
    "    rest_input = Input(shape=(1,), dtype='int32', name = 'rest_input')\n",
    "    text_input = Input(shape=(50,), dtype='float64', name='text_input')\n",
    "    attr_input = Input(shape=(18,), dtype='int32', name='attr_input')\n",
    "    \n",
    "    # Aspect Features Layer\n",
    "    for i in range(len(attr_layers)):\n",
    "        attr_dense = Dense(attr_layers[i], kernel_regularizer=l2(regs[i]), activation='relu', name=f'attr_layer{i}')\n",
    "        if i == 0:\n",
    "            attr_predict_input = attr_dense(attr_input)\n",
    "        else:\n",
    "            attr_predict_input = attr_dense(attr_predict_input)\n",
    "    \n",
    "    # Text Feature Layer\n",
    "    for i in range(len(text_layers)):\n",
    "        text_dense = Dense(text_layers[i], kernel_regularizer=l2(regs[i]), activation='relu', name=f'text_layer{i}')\n",
    "        if i == 0:\n",
    "            text_predict_input = text_dense(text_input)\n",
    "        else:\n",
    "            text_predict_input = text_dense(text_predict_input)\n",
    "                \n",
    "    # GMF\n",
    "    mf_user_embed = Embedding(input_dim = users, output_dim = latent_dim, name = 'mf_user_embed',\n",
    "                      embeddings_initializer = initializers.RandomNormal(mean=0.0, stddev=0.01), \n",
    "                      embeddings_regularizer = l2(regs[0]), input_length=1)\n",
    "    mf_rest_embed = Embedding(input_dim = restaurants, output_dim = latent_dim, name = 'mf_rest_embed',\n",
    "                      embeddings_initializer = initializers.RandomNormal(mean=0.0, stddev=0.01), \n",
    "                      embeddings_regularizer = l2(regs[0]), input_length=1)\n",
    "\n",
    "    mf_user_latent = Flatten()(mf_user_embed(user_input))\n",
    "    mf_rest_latent = Flatten()(mf_rest_embed(rest_input))\n",
    "\n",
    "    mf_predict_input = mf_user_latent * mf_rest_latent\n",
    "\n",
    "    # NCF\n",
    "    ncf_user_embed = Embedding(input_dim = users, output_dim = layers[0]//2, name = 'ncf_user_embed',\n",
    "                      embeddings_initializer = initializers.RandomNormal(mean=0.0, stddev=0.01), \n",
    "                      embeddings_regularizer = l2(regs[0]), input_length=1)\n",
    "    ncf_rest_embed = Embedding(input_dim = restaurants, output_dim = layers[0]//2, name = 'ncf_rest_embed',\n",
    "                      embeddings_initializer = initializers.RandomNormal(mean=0.0, stddev=0.01), \n",
    "                      embeddings_regularizer = l2(regs[0]), input_length=1)\n",
    "\n",
    "    ncf_user_latent = Flatten()(ncf_user_embed(user_input))\n",
    "    ncf_rest_latent = Flatten()(ncf_rest_embed(rest_input))\n",
    "\n",
    "    ncf_prediction_input = Concatenate()([ncf_user_latent, ncf_rest_latent])\n",
    "\n",
    "    for i in range(len(layers)):\n",
    "        ncf_dense = Dense(layers[i], kernel_regularizer=l2(regs[i]), activation='relu', name=f'layer{i}')\n",
    "        ncf_predict_input = ncf_dense(ncf_prediction_input)\n",
    "    \n",
    "    neumf_predict_input = Concatenate()([mf_predict_input, ncf_predict_input, attr_predict_input, text_predict_input])\n",
    "\n",
    "    neumf_predict_output = Dense(1, activation='sigmoid', name='output')(neumf_predict_input)\n",
    "\n",
    "    neumf_model = Model(inputs=[user_input, rest_input, attr_input, text_input], outputs=neumf_predict_output)\n",
    "    return neumf_model"
   ]
  },
  {
   "cell_type": "markdown",
   "id": "b1057af2",
   "metadata": {},
   "source": [
    "### Augmented  with BUI"
   ]
  },
  {
   "cell_type": "code",
   "execution_count": 19,
   "id": "773a82fe",
   "metadata": {
    "scrolled": true
   },
   "outputs": [
    {
     "name": "stdout",
     "output_type": "stream",
     "text": [
      "Epoch 1/10\n",
      "14590/14590 [==============================] - 25s 2ms/step - loss: 0.0430\n",
      "Epoch 2/10\n",
      "14590/14590 [==============================] - 23s 2ms/step - loss: 0.0370\n",
      "Epoch 3/10\n",
      "14590/14590 [==============================] - 23s 2ms/step - loss: 0.0357\n",
      "Epoch 4/10\n",
      "14590/14590 [==============================] - 23s 2ms/step - loss: 0.0350\n",
      "Epoch 5/10\n",
      "14590/14590 [==============================] - 23s 2ms/step - loss: 0.0347\n",
      "Epoch 6/10\n",
      "14590/14590 [==============================] - 23s 2ms/step - loss: 0.0345\n",
      "Epoch 7/10\n",
      "14590/14590 [==============================] - 23s 2ms/step - loss: 0.0344\n",
      "Epoch 8/10\n",
      "14590/14590 [==============================] - 23s 2ms/step - loss: 0.0343\n",
      "Epoch 9/10\n",
      "14590/14590 [==============================] - 24s 2ms/step - loss: 0.0342\n",
      "Epoch 10/10\n",
      "14590/14590 [==============================] - 23s 2ms/step - loss: 0.0341\n",
      "0.2411056361224617 0.7005047672462142\n",
      "Epoch 1/10\n",
      "14590/14590 [==============================] - 31s 2ms/step - loss: 0.0423\n",
      "Epoch 2/10\n",
      "14590/14590 [==============================] - 29s 2ms/step - loss: 0.0369\n",
      "Epoch 3/10\n",
      "14590/14590 [==============================] - 28s 2ms/step - loss: 0.0355\n",
      "Epoch 4/10\n",
      "14590/14590 [==============================] - 28s 2ms/step - loss: 0.0349\n",
      "Epoch 5/10\n",
      "14590/14590 [==============================] - 28s 2ms/step - loss: 0.0345\n",
      "Epoch 6/10\n",
      "14590/14590 [==============================] - 28s 2ms/step - loss: 0.0342\n",
      "Epoch 7/10\n",
      "14590/14590 [==============================] - 29s 2ms/step - loss: 0.0339\n",
      "Epoch 8/10\n",
      "14590/14590 [==============================] - 28s 2ms/step - loss: 0.0337\n",
      "Epoch 9/10\n",
      "14590/14590 [==============================] - 28s 2ms/step - loss: 0.0335\n",
      "Epoch 10/10\n",
      "14590/14590 [==============================] - 29s 2ms/step - loss: 0.0333\n",
      "0.23657184105024823 0.7089175546831183\n",
      "Epoch 1/10\n",
      "14590/14590 [==============================] - 51s 3ms/step - loss: 0.0424\n",
      "Epoch 2/10\n",
      "14590/14590 [==============================] - 51s 3ms/step - loss: 0.0369\n",
      "Epoch 3/10\n",
      "14590/14590 [==============================] - 49s 3ms/step - loss: 0.0353\n",
      "Epoch 4/10\n",
      "14590/14590 [==============================] - 49s 3ms/step - loss: 0.0346\n",
      "Epoch 5/10\n",
      "14590/14590 [==============================] - 49s 3ms/step - loss: 0.0343\n",
      "Epoch 6/10\n",
      "14590/14590 [==============================] - 49s 3ms/step - loss: 0.0339\n",
      "Epoch 7/10\n",
      "14590/14590 [==============================] - 49s 3ms/step - loss: 0.0336\n",
      "Epoch 8/10\n",
      "14590/14590 [==============================] - 53s 4ms/step - loss: 0.0333\n",
      "Epoch 9/10\n",
      "14590/14590 [==============================] - 54s 4ms/step - loss: 0.0330\n",
      "Epoch 10/10\n",
      "14590/14590 [==============================] - 54s 4ms/step - loss: 0.0327\n",
      "0.23600214548335693 0.7083567021873247\n",
      "Epoch 1/10\n",
      "14590/14590 [==============================] - 84s 6ms/step - loss: 0.0419\n",
      "Epoch 2/10\n",
      "14590/14590 [==============================] - 85s 6ms/step - loss: 0.0368\n",
      "Epoch 3/10\n",
      "14590/14590 [==============================] - 90s 6ms/step - loss: 0.0351\n",
      "Epoch 4/10\n",
      "14590/14590 [==============================] - 90s 6ms/step - loss: 0.0344\n",
      "Epoch 5/10\n",
      "14590/14590 [==============================] - 90s 6ms/step - loss: 0.0339\n",
      "Epoch 6/10\n",
      "14590/14590 [==============================] - 91s 6ms/step - loss: 0.0335\n",
      "Epoch 7/10\n",
      "14590/14590 [==============================] - 91s 6ms/step - loss: 0.0331\n",
      "Epoch 8/10\n",
      "14590/14590 [==============================] - 91s 6ms/step - loss: 0.0327\n",
      "Epoch 9/10\n",
      "14590/14590 [==============================] - 91s 6ms/step - loss: 0.0323\n",
      "Epoch 10/10\n",
      "14590/14590 [==============================] - 90s 6ms/step - loss: 0.0319\n",
      "0.24032152946552834 0.7145260796410544\n"
     ]
    }
   ],
   "source": [
    "EPOCHS = 10\n",
    "PREDICTIVE_LAYERS = [4, 8, 16, 32]\n",
    "ASPECT_LAYERS = [16, 8]\n",
    "TEXT_LAYERS = [16]\n",
    "REGS = [0,0,0]\n",
    "LATENT_DIM = 8\n",
    "USER_NUM, REST_NUM = int_np_grt_20.shape\n",
    "LR = 1e-3\n",
    "BATCH_SIZE = 1024\n",
    "aug_int_mapks = []\n",
    "aug_int_hrs = []\n",
    "\n",
    "for layer in PREDICTIVE_LAYERS:\n",
    "    tf.random.set_seed(903347941)\n",
    "    MLP_DENSE = [layer*4,layer*2,layer]\n",
    "    aug_nmf = augmented_neumf(USER_NUM, REST_NUM, LATENT_DIM, MLP_DENSE, ASPECT_LAYERS, TEXT_LAYERS, REGS)\n",
    "    aug_nmf.compile(optimizer=Adam(learning_rate=LR), loss='binary_crossentropy')\n",
    "    aug_nmf.fit([X_train_int[:, :1], X_train_int[:, 1:], attr_int_train, text_int_train], Y_train_int, batch_size=BATCH_SIZE, epochs=EPOCHS)\n",
    "    predictions = aug_nmf.predict([X_test_int[:, :1], X_test_int[:, 1:], attr_int_test, text_int_test])\n",
    "    true_pred = np.hstack((X_test_int, Y_test_int.reshape(-1,1), predictions))\n",
    "    mapk = map_k(true_pred, USER_NUM, 10)\n",
    "    hr = hit_ratio_k(true_pred, USER_NUM, 10)\n",
    "    print(mapk, hr)\n",
    "    aug_int_mapks.append(mapk)\n",
    "    aug_int_hrs.append(hr)"
   ]
  },
  {
   "cell_type": "code",
   "execution_count": 20,
   "id": "74fa5edc",
   "metadata": {},
   "outputs": [
    {
     "name": "stdout",
     "output_type": "stream",
     "text": [
      "[0.2411056361224617, 0.23657184105024823, 0.23600214548335693, 0.24032152946552834]\n",
      "[0.7005047672462142, 0.7089175546831183, 0.7083567021873247, 0.7145260796410544]\n"
     ]
    }
   ],
   "source": [
    "print(aug_int_mapks)\n",
    "print(aug_int_hrs)"
   ]
  },
  {
   "cell_type": "markdown",
   "id": "15172979",
   "metadata": {},
   "source": [
    "### Augmented  with TWSIR"
   ]
  },
  {
   "cell_type": "code",
   "execution_count": 25,
   "id": "207b9e49",
   "metadata": {
    "scrolled": true
   },
   "outputs": [
    {
     "name": "stdout",
     "output_type": "stream",
     "text": [
      "Epoch 1/10\n",
      "6737/6737 [==============================] - 17s 2ms/step - loss: 0.0504\n",
      "Epoch 2/10\n",
      "6737/6737 [==============================] - 17s 3ms/step - loss: 0.0443\n",
      "Epoch 3/10\n",
      "6737/6737 [==============================] - 17s 3ms/step - loss: 0.0423\n",
      "Epoch 4/10\n",
      "6737/6737 [==============================] - 16s 2ms/step - loss: 0.0410\n",
      "Epoch 5/10\n",
      "6737/6737 [==============================] - 16s 2ms/step - loss: 0.0402\n",
      "Epoch 6/10\n",
      "6737/6737 [==============================] - 16s 2ms/step - loss: 0.0398\n",
      "Epoch 7/10\n",
      "6737/6737 [==============================] - 17s 3ms/step - loss: 0.0394\n",
      "Epoch 8/10\n",
      "6737/6737 [==============================] - 16s 2ms/step - loss: 0.0392\n",
      "Epoch 9/10\n",
      "6737/6737 [==============================] - 16s 2ms/step - loss: 0.0390\n",
      "Epoch 10/10\n",
      "6737/6737 [==============================] - 16s 2ms/step - loss: 0.0389\n",
      "0.49098891959115093 0.947069943289225\n",
      "Epoch 1/10\n",
      "6737/6737 [==============================] - 22s 3ms/step - loss: 0.0501\n",
      "Epoch 2/10\n",
      "6737/6737 [==============================] - 21s 3ms/step - loss: 0.0443\n",
      "Epoch 3/10\n",
      "6737/6737 [==============================] - 21s 3ms/step - loss: 0.0421\n",
      "Epoch 4/10\n",
      "6737/6737 [==============================] - 20s 3ms/step - loss: 0.0408\n",
      "Epoch 5/10\n",
      "6737/6737 [==============================] - 21s 3ms/step - loss: 0.0399\n",
      "Epoch 6/10\n",
      "6737/6737 [==============================] - 20s 3ms/step - loss: 0.0394\n",
      "Epoch 7/10\n",
      "6737/6737 [==============================] - 20s 3ms/step - loss: 0.0389\n",
      "Epoch 8/10\n",
      "6737/6737 [==============================] - 20s 3ms/step - loss: 0.0386\n",
      "Epoch 9/10\n",
      "6737/6737 [==============================] - 20s 3ms/step - loss: 0.0384\n",
      "Epoch 10/10\n",
      "6737/6737 [==============================] - 20s 3ms/step - loss: 0.0381\n",
      "0.47132990178848266 0.9385633270321361\n",
      "Epoch 1/10\n",
      "6737/6737 [==============================] - 24s 3ms/step - loss: 0.0501\n",
      "Epoch 2/10\n",
      "6737/6737 [==============================] - 23s 3ms/step - loss: 0.0442\n",
      "Epoch 3/10\n",
      "6737/6737 [==============================] - 23s 3ms/step - loss: 0.0418\n",
      "Epoch 4/10\n",
      "6737/6737 [==============================] - 23s 3ms/step - loss: 0.0403\n",
      "Epoch 5/10\n",
      "6737/6737 [==============================] - 24s 4ms/step - loss: 0.0394\n",
      "Epoch 6/10\n",
      "6737/6737 [==============================] - 23s 3ms/step - loss: 0.0388\n",
      "Epoch 7/10\n",
      "6737/6737 [==============================] - 22s 3ms/step - loss: 0.0383\n",
      "Epoch 8/10\n",
      "6737/6737 [==============================] - 23s 3ms/step - loss: 0.0379\n",
      "Epoch 9/10\n",
      "6737/6737 [==============================] - 22s 3ms/step - loss: 0.0375\n",
      "Epoch 10/10\n",
      "6737/6737 [==============================] - 23s 3ms/step - loss: 0.0372\n",
      "0.4722844867310504 0.9319470699432892\n",
      "Epoch 1/10\n",
      "6737/6737 [==============================] - 37s 5ms/step - loss: 0.0503\n",
      "Epoch 2/10\n",
      "6737/6737 [==============================] - 36s 5ms/step - loss: 0.0444\n",
      "Epoch 3/10\n",
      "6737/6737 [==============================] - 36s 5ms/step - loss: 0.0419\n",
      "Epoch 4/10\n",
      "6737/6737 [==============================] - 39s 6ms/step - loss: 0.0402\n",
      "Epoch 5/10\n",
      "6737/6737 [==============================] - 40s 6ms/step - loss: 0.0392\n",
      "Epoch 6/10\n",
      "6737/6737 [==============================] - 39s 6ms/step - loss: 0.0383\n",
      "Epoch 7/10\n",
      "6737/6737 [==============================] - 38s 6ms/step - loss: 0.0376\n",
      "Epoch 8/10\n",
      "6737/6737 [==============================] - 38s 6ms/step - loss: 0.0370\n",
      "Epoch 9/10\n",
      "6737/6737 [==============================] - 38s 6ms/step - loss: 0.0364\n",
      "Epoch 10/10\n",
      "6737/6737 [==============================] - 39s 6ms/step - loss: 0.0358\n",
      "0.4496555314259709 0.9347826086956522\n"
     ]
    }
   ],
   "source": [
    "EPOCHS = 10\n",
    "PREDICTIVE_LAYERS = [4, 8, 16, 32]\n",
    "ASPECT_LAYERS = [64, 32]\n",
    "TEXT_LAYERS = [64,32]\n",
    "REGS = [0,0,0]\n",
    "LATENT_DIM = 8\n",
    "USER_NUM, REST_NUM = twsir_np_grt_20.shape\n",
    "LR = 1e-3\n",
    "BATCH_SIZE = 1024\n",
    "aug_twsir_mapks = []\n",
    "aug_twsir_hrs = []\n",
    "\n",
    "for layer in PREDICTIVE_LAYERS:\n",
    "    tf.random.set_seed(903347941)\n",
    "    MLP_DENSE = [layer*4,layer*2,layer]\n",
    "    aug_nmf = augmented_neumf(USER_NUM, REST_NUM, LATENT_DIM, MLP_DENSE, ASPECT_LAYERS, TEXT_LAYERS, REGS)\n",
    "    aug_nmf.compile(optimizer=Adam(learning_rate=LR), loss='binary_crossentropy')\n",
    "    aug_nmf.fit([X_train_twsir[:, :1], X_train_twsir[:, 1:], attr_twsir_train, text_twsir_train], Y_train_twsir, batch_size=BATCH_SIZE, epochs=EPOCHS)\n",
    "    predictions = aug_nmf.predict([X_test_twsir[:, :1], X_test_twsir[:, 1:], attr_twsir_test, text_twsir_test])\n",
    "    true_pred = np.hstack((X_test_twsir, Y_test_twsir.reshape(-1,1), predictions))\n",
    "    mapk = map_k(true_pred, USER_NUM, 10)\n",
    "    hr = hit_ratio_k(true_pred, USER_NUM, 10)\n",
    "    print(mapk, hr)\n",
    "    aug_twsir_mapks.append(mapk)\n",
    "    aug_twsir_hrs.append(hr)"
   ]
  },
  {
   "cell_type": "code",
   "execution_count": 26,
   "id": "aed20714",
   "metadata": {},
   "outputs": [
    {
     "name": "stdout",
     "output_type": "stream",
     "text": [
      "[0.49098891959115093, 0.47132990178848266, 0.4722844867310504, 0.4496555314259709]\n",
      "[0.947069943289225, 0.9385633270321361, 0.9319470699432892, 0.9347826086956522]\n"
     ]
    }
   ],
   "source": [
    "print(aug_twsir_mapks)\n",
    "print(aug_twsir_hrs)"
   ]
  },
  {
   "cell_type": "markdown",
   "id": "85f1f972",
   "metadata": {},
   "source": [
    "### Generate Plots for Results"
   ]
  },
  {
   "cell_type": "code",
   "execution_count": 49,
   "id": "0070d3b1",
   "metadata": {
    "scrolled": true
   },
   "outputs": [
    {
     "data": {
      "image/png": "[encoded data removed]",
      "text/plain": [
       "<Figure size 1440x360 with 2 Axes>"
      ]
     },
     "metadata": {
      "needs_background": "light"
     },
     "output_type": "display_data"
    }
   ],
   "source": [
    "fig = plt.figure(figsize=(20,5))\n",
    "\n",
    "# Plot HR@10\n",
    "plt.subplot(1,2,1)\n",
    "plt.plot([str(x) for x in PREDICTIVE_LAYERS], bm_bui_hrs, marker='.', label='BM BUI')\n",
    "plt.plot([str(x) for x in PREDICTIVE_LAYERS], bm_twsir_hrs, marker='.', label='BM TWSIR')\n",
    "plt.plot([str(x) for x in PREDICTIVE_LAYERS], aug_int_hrs, marker='.', label='AUG BUI')\n",
    "plt.plot([str(x) for x in PREDICTIVE_LAYERS], aug_twsir_hrs, marker='.', label='AUG TWSIR')\n",
    "plt.xlabel('Predictive Layers')\n",
    "plt.ylabel('Hit Ratio @10')\n",
    "plt.title('Plot of Hit Ratio @10 Against Predictive Layers')\n",
    "plt.legend()\n",
    "\n",
    "plt.subplot(1,2,2)\n",
    "plt.plot([str(x) for x in PREDICTIVE_LAYERS], bm_bui_mapks, marker='.', label='BM BUI')\n",
    "plt.plot([str(x) for x in PREDICTIVE_LAYERS], bm_twsir_mapks, marker='.', label='BM TWSIR')\n",
    "plt.plot([str(x) for x in PREDICTIVE_LAYERS], aug_int_mapks, marker='.', label='AUG BUI')\n",
    "plt.plot([str(x) for x in PREDICTIVE_LAYERS], aug_twsir_mapks, marker='.', label='AUG TWSIR')\n",
    "plt.xlabel('Predictive Layers')\n",
    "plt.ylabel('MAP @ 10')\n",
    "plt.title('Plot of MAP @10 Against Predictive Layers')\n",
    "plt.legend()\n",
    "plt.show()"
   ]
  },
  {
   "cell_type": "markdown",
   "id": "d27f897f",
   "metadata": {},
   "source": [
    "### Generate Dummy Recommendation List"
   ]
  },
  {
   "cell_type": "code",
   "execution_count": 28,
   "id": "867bc123",
   "metadata": {},
   "outputs": [
    {
     "name": "stdout",
     "output_type": "stream",
     "text": [
      "Epoch 1/10\n",
      "6737/6737 [==============================] - 11s 2ms/step - loss: 0.0547\n",
      "Epoch 2/10\n",
      "6737/6737 [==============================] - 10s 1ms/step - loss: 0.0445\n",
      "Epoch 3/10\n",
      "6737/6737 [==============================] - 10s 1ms/step - loss: 0.0423\n",
      "Epoch 4/10\n",
      "6737/6737 [==============================] - 10s 1ms/step - loss: 0.0410\n",
      "Epoch 5/10\n",
      "6737/6737 [==============================] - 11s 2ms/step - loss: 0.0404\n",
      "Epoch 6/10\n",
      "6737/6737 [==============================] - 11s 2ms/step - loss: 0.0400\n",
      "Epoch 7/10\n",
      "6737/6737 [==============================] - 10s 1ms/step - loss: 0.0396\n",
      "Epoch 8/10\n",
      "6737/6737 [==============================] - 10s 1ms/step - loss: 0.0394\n",
      "Epoch 9/10\n",
      "6737/6737 [==============================] - 11s 2ms/step - loss: 0.0391\n",
      "Epoch 10/10\n",
      "6737/6737 [==============================] - 10s 2ms/step - loss: 0.0389\n"
     ]
    }
   ],
   "source": [
    "# Use best model which is benchmark TWSIR\n",
    "EPOCHS = 10\n",
    "LAYER = 8\n",
    "REGS = [0,0,0]\n",
    "LATENT_DIM = 8\n",
    "USER_NUM, REST_NUM = twsir_np_grt_20.shape\n",
    "LR = 1e-3\n",
    "BATCH_SIZE = 1024\n",
    "tf.random.set_seed(903347941)\n",
    "MLP_DENSE = [LAYER*4,LAYER*2,LAYER]\n",
    "nmf = neumf(USER_NUM, REST_NUM, LATENT_DIM, layers=MLP_DENSE, regs=REGS)\n",
    "nmf.compile(optimizer=Adam(learning_rate=LR), loss='binary_crossentropy')\n",
    "nmf.fit([X_train_twsir[:, :1], X_train_twsir[:, 1:]], Y_train_twsir, batch_size=BATCH_SIZE, epochs=EPOCHS)\n",
    "predictions = nmf.predict([X_test_twsir[:, :1], X_test_twsir[:, 1:]])\n",
    "true_pred = np.hstack((X_test_twsir, Y_test_twsir.reshape(-1,1), predictions))"
   ]
  },
  {
   "cell_type": "code",
   "execution_count": 46,
   "id": "8bd62083",
   "metadata": {},
   "outputs": [],
   "source": [
    "# Restaurants\n",
    "senti_rest = pd.read_csv('../data/restaurant_sentiment.csv')\n",
    "users = pd.read_csv('../data/users.csv')\n",
    "rest_detailed = pd.read_csv('../data/restaurants_detailed.csv')\n",
    "zero = pd.DataFrame(true_pred[true_pred[:,0]==0], \n",
    "                    columns=['account_uuid', 'restaurant_uuid', 'True Ratings', 'Predicted Ratings'])\n",
    "main = zero.merge(senti_rest, on='restaurant_uuid', how='inner')\n",
    "main = main.merge(users, on='account_uuid', how='inner')\n",
    "main = main.merge(rest_detailed, on='restaurant_code', how='inner')\n",
    "main = main.sort_values('Predicted Ratings', ascending=False)"
   ]
  },
  {
   "cell_type": "code",
   "execution_count": 48,
   "id": "0159cfd6",
   "metadata": {},
   "outputs": [],
   "source": [
    "main[['account_id', 'restaurant_id','lat', 'long','intrinsic_rating']].reset_index(drop=True).to_csv('recs.csv', index=False)"
   ]
  }
 ],
 "metadata": {
  "colab": {
   "provenance": []
  },
  "gpuClass": "standard",
  "kernelspec": {
   "display_name": "Python 3",
   "language": "python",
   "name": "python3"
  },
  "language_info": {
   "codemirror_mode": {
    "name": "ipython",
    "version": 3
   },
   "file_extension": ".py",
   "mimetype": "text/x-python",
   "name": "python",
   "nbconvert_exporter": "python",
   "pygments_lexer": "ipython3",
   "version": "3.8.8"
  }
 },
 "nbformat": 4,
 "nbformat_minor": 5
}
